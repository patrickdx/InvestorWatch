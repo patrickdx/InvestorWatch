{
 "cells": [
  {
   "cell_type": "markdown",
   "metadata": {},
   "source": [
    "This notebook enriches `stock` news sources with price movement (price change during date of publish), and search hits. (how 'popular' a news article was)"
   ]
  },
  {
   "cell_type": "code",
   "execution_count": 40,
   "metadata": {},
   "outputs": [
    {
     "data": {
      "text/plain": [
       "0    2024-11-25 15:53:00\n",
       "1    2024-11-25 10:48:00\n",
       "2    2024-11-25 10:20:00\n",
       "3    2024-11-26 05:36:00\n",
       "4    2024-11-27 02:38:00\n",
       "5    2024-11-29 02:57:00\n",
       "6    2024-11-29 21:48:00\n",
       "7    2024-11-30 10:12:00\n",
       "8    2024-12-09 14:00:00\n",
       "9    2024-12-09 21:41:00\n",
       "10   2024-12-10 02:12:00\n",
       "11   2024-12-10 11:50:00\n",
       "12   2024-12-10 19:49:00\n",
       "13   2024-12-10 22:30:00\n",
       "14   2024-12-11 09:40:00\n",
       "15   2024-12-11 12:19:00\n",
       "16   2024-12-11 16:12:00\n",
       "17   2024-12-11 17:11:00\n",
       "18   2024-12-12 09:36:00\n",
       "19   2024-12-12 21:50:00\n",
       "20   2024-12-13 02:59:00\n",
       "21   2024-12-13 06:09:00\n",
       "22   2024-12-13 07:27:00\n",
       "23   2024-12-13 12:02:00\n",
       "24   2024-12-13 14:11:00\n",
       "25   2024-12-13 15:43:00\n",
       "26   2024-12-13 17:06:00\n",
       "27   2024-12-16 06:07:00\n",
       "28   2024-12-16 18:25:00\n",
       "29   2024-12-17 11:36:00\n",
       "30   2024-12-17 21:13:00\n",
       "31   2024-12-18 02:15:00\n",
       "32   2024-12-19 07:29:00\n",
       "33   2024-12-20 05:42:00\n",
       "34   2024-12-20 06:02:00\n",
       "35   2024-12-20 17:24:00\n",
       "36   2024-12-21 08:00:00\n",
       "37   2024-12-23 08:41:00\n",
       "38   2024-12-23 14:08:00\n",
       "39   2024-12-27 06:05:00\n",
       "40   2024-12-30 23:20:00\n",
       "41   2024-12-31 04:32:00\n",
       "42   2024-12-31 07:50:00\n",
       "43   2025-01-01 16:12:00\n",
       "44   2025-01-01 16:12:00\n",
       "45   2025-01-01 16:12:00\n",
       "46   2025-01-02 06:03:00\n",
       "47   2025-01-02 09:07:00\n",
       "48   2025-01-02 10:53:00\n",
       "49   2025-01-02 12:07:00\n",
       "50   2025-01-02 21:49:00\n",
       "51   2025-01-03 04:52:00\n",
       "52   2025-01-03 06:07:00\n",
       "53   2025-01-06 23:16:00\n",
       "54   2025-01-07 06:00:00\n",
       "55   2025-01-07 06:55:00\n",
       "56   2025-01-07 08:52:00\n",
       "57   2025-01-07 18:00:00\n",
       "58   2025-01-07 18:32:00\n",
       "59   2025-01-10 05:26:00\n",
       "60   2025-01-12 15:43:00\n",
       "61   2025-01-13 19:07:00\n",
       "62   2025-01-19 22:14:00\n",
       "63   2025-01-19 23:53:00\n",
       "64   2025-01-21 10:19:00\n",
       "65   2025-01-21 11:26:00\n",
       "66   2025-01-21 16:46:00\n",
       "67   2025-01-21 18:43:00\n",
       "68   2025-01-22 08:01:00\n",
       "69   2025-01-22 09:30:00\n",
       "70   2025-01-22 22:20:00\n",
       "71   2025-01-23 20:28:00\n",
       "Name: Date, dtype: datetime64[ns]"
      ]
     },
     "execution_count": 40,
     "metadata": {},
     "output_type": "execute_result"
    }
   ],
   "source": [
    "import logging\n",
    "import requests \n",
    "from datetime import timedelta, datetime\n",
    "import time\n",
    "import pandas as pd\n",
    "import yfinance as yf \n",
    "from bs4 import BeautifulSoup\n",
    "import requests\n",
    "import re \n",
    "import os\n",
    "from config import * \n",
    "\n",
    "stock = 'TSLA'\n",
    "\n",
    "# lookup stock in file \n",
    "file = f'{STOCK_PATH}/{stock}.csv'\n",
    "news = pd.read_csv(file, parse_dates=['Date'])\n",
    "\n",
    "\n",
    "pd.set_option('display.max_rows', None)  # Display all rows\n",
    "pd.set_option('display.max_columns', None)  # Display all columns\n",
    "\n",
    "news['Date']\n",
    "\n"
   ]
  },
  {
   "cell_type": "code",
   "execution_count": 65,
   "metadata": {},
   "outputs": [
    {
     "name": "stderr",
     "output_type": "stream",
     "text": [
      "[*********************100%***********************]  1 of 1 completed\n"
     ]
    },
    {
     "data": {
      "text/plain": [
       "array([datetime.date(2025, 1, 3), datetime.date(2025, 1, 15),\n",
       "       datetime.date(2024, 12, 24), datetime.date(2024, 12, 16),\n",
       "       datetime.date(2024, 12, 11), datetime.date(2024, 12, 6),\n",
       "       datetime.date(2024, 12, 13), datetime.date(2024, 11, 22),\n",
       "       datetime.date(2024, 11, 29), datetime.date(2024, 12, 17),\n",
       "       datetime.date(2024, 12, 2), datetime.date(2024, 12, 5),\n",
       "       datetime.date(2025, 1, 17), datetime.date(2024, 12, 10),\n",
       "       datetime.date(2024, 12, 23), datetime.date(2025, 1, 13),\n",
       "       datetime.date(2024, 11, 19), datetime.date(2024, 12, 4),\n",
       "       datetime.date(2024, 12, 9), datetime.date(2025, 1, 8),\n",
       "       datetime.date(2025, 1, 6), datetime.date(2025, 1, 10),\n",
       "       datetime.date(2024, 11, 26), datetime.date(2025, 1, 21),\n",
       "       datetime.date(2025, 1, 23), datetime.date(2024, 11, 21),\n",
       "       datetime.date(2024, 12, 19), datetime.date(2024, 11, 20),\n",
       "       datetime.date(2025, 1, 24), datetime.date(2024, 12, 12),\n",
       "       datetime.date(2024, 11, 27), datetime.date(2024, 12, 3),\n",
       "       datetime.date(2025, 1, 14), datetime.date(2024, 12, 26),\n",
       "       datetime.date(2025, 1, 22), datetime.date(2024, 12, 31),\n",
       "       datetime.date(2024, 12, 30), datetime.date(2025, 1, 16),\n",
       "       datetime.date(2024, 12, 20), datetime.date(2024, 11, 25),\n",
       "       datetime.date(2025, 1, 7), datetime.date(2024, 12, 27),\n",
       "       datetime.date(2025, 1, 2), datetime.date(2024, 12, 18),\n",
       "       datetime.date(2024, 11, 18)], dtype=object)"
      ]
     },
     "execution_count": 65,
     "metadata": {},
     "output_type": "execute_result"
    }
   ],
   "source": [
    "\n",
    "\n",
    "# calculate intraday return in yfinance\n",
    "def get_intraday_return(stock, oldest_date): \n",
    "    data = yf.download(stock, period = 'max', start = oldest_date - timedelta(weeks = 1))       # news from [oldest_date, today]\n",
    "    data.columns = data.columns.droplevel(1)                             # drop the multi-level column index\n",
    "    data.columns.name = None \n",
    "\n",
    "    data['Prev Close'] = data['Close'].shift(1)     # get previous close by shifting it down by 1\n",
    "    data['% Change'] = ((data['Close'] - data['Prev Close']) / data['Prev Close'])  * 100\n",
    "    data['% Change'] = data['% Change'].round(2)\n",
    "    data.sort_values('% Change', ascending = False, inplace = True)\n",
    "    return data\n",
    "\n",
    "swings = get_intraday_return(stock, news['Date'].min())               # largest % price changes \n",
    "\n",
    "def lookup_date(timestamp):\n",
    "    '''Looks up the price movement on a given date and populates news df'''\n",
    "    try:\n",
    "        return swings.loc[str(timestamp.date()), '% Change']\n",
    "    except KeyError:\n",
    "        return None     # print(f'No price movement data for {timestamp.date()}')\n",
    "\n",
    "# news['% Change'] = news['Date'].apply(lookup_date)         \n",
    "\n",
    "\n",
    "swings.index\n",
    "\n",
    "\n",
    "news['Date'].dtype \n",
    "swings.index.date \n"
   ]
  },
  {
   "cell_type": "code",
   "execution_count": 38,
   "metadata": {},
   "outputs": [
    {
     "name": "stdout",
     "output_type": "stream",
     "text": [
      "Exclusive-Trump transition team plans sweeping rollback of Biden EV, emissions policies 2220\n",
      "China resident who stole Tesla trade secrets gets 2-year US sentence 1840\n",
      "Tesla's China factory head Song Gang leaves company, letter to staff shows 617\n",
      "As Musk gains influence, questions hover over US probes into his empire 34100\n",
      "Tesla annual deliveries fall for first time as competition hurts demand 9690\n",
      "Teslas Annual EV Sales Drop for First Time in Over a Decade 40\n",
      "Musk donated $108 million in Tesla shares to unnamed charities, filing shows 4510\n",
      "Tesla's China sales rise to record high in 2024, bucking global decline 9400\n",
      "Teslas Annual EV Sales Drop for First Time in Over a Decade 40\n",
      "2024 US new-car sales rise to five-year high, but Tesla and Stellantis lag 328\n"
     ]
    }
   ],
   "source": [
    "def get_google_results(query):      # using google Custom Search JSON API\n",
    "    params = {\n",
    "        'q': f'\"{query}\"',\n",
    "        'key': GOOGLE_API_KEY, \n",
    "        'cx': SEARCH_ENGINE_ID,         \n",
    "    }\n",
    "\n",
    "    try: \n",
    "        response = requests.get('https://www.googleapis.com/customsearch/v1', params = params).json() \n",
    "        if 'totalResults' not in response['queries']['request'][0]: return 0 \n",
    "        num_results = int(response['queries']['request'][0]['totalResults'])\n",
    "        print(query, num_results)\n",
    "        return num_results\n",
    "    \n",
    "    except Exception as e:\n",
    "        print(response)\n",
    "        raise e\n",
    "\n",
    "    \n",
    "'''\n",
    "Mines the top N days with the highest price change for news catalysts\n",
    "'''\n",
    "n = 4           # set this to a low number because of google api limits :)\n",
    "largest_price_changes = news['% Change'].sort_values(key=abs, ascending=False).drop_duplicates().head(n)\n",
    "news.loc[news['% Change'].isin(largest_price_changes), 'hits'] = news.loc[news['% Change'].isin(largest_price_changes), 'Title'].apply(get_google_results)\n",
    "\n",
    "\n"
   ]
  },
  {
   "cell_type": "code",
   "execution_count": 39,
   "metadata": {},
   "outputs": [
    {
     "data": {
      "text/html": [
       "<div>\n",
       "<style scoped>\n",
       "    .dataframe tbody tr th:only-of-type {\n",
       "        vertical-align: middle;\n",
       "    }\n",
       "\n",
       "    .dataframe tbody tr th {\n",
       "        vertical-align: top;\n",
       "    }\n",
       "\n",
       "    .dataframe thead th {\n",
       "        text-align: right;\n",
       "    }\n",
       "</style>\n",
       "<table border=\"1\" class=\"dataframe\">\n",
       "  <thead>\n",
       "    <tr style=\"text-align: right;\">\n",
       "      <th></th>\n",
       "      <th>Date</th>\n",
       "      <th>Title</th>\n",
       "      <th>Link</th>\n",
       "      <th>Source</th>\n",
       "      <th>% Change</th>\n",
       "      <th>hits</th>\n",
       "    </tr>\n",
       "  </thead>\n",
       "  <tbody>\n",
       "    <tr>\n",
       "      <th>46</th>\n",
       "      <td>2025-01-02 06:03:00</td>\n",
       "      <td>As Musk gains influence, questions hover over ...</td>\n",
       "      <td>https://finance.yahoo.com/news/musk-gains-infl...</td>\n",
       "      <td>Reuters</td>\n",
       "      <td>-6.08</td>\n",
       "      <td>34100.0</td>\n",
       "    </tr>\n",
       "  </tbody>\n",
       "</table>\n",
       "</div>"
      ],
      "text/plain": [
       "                  Date                                              Title  \\\n",
       "46 2025-01-02 06:03:00  As Musk gains influence, questions hover over ...   \n",
       "\n",
       "                                                 Link   Source  % Change  \\\n",
       "46  https://finance.yahoo.com/news/musk-gains-infl...  Reuters     -6.08   \n",
       "\n",
       "       hits  \n",
       "46  34100.0  "
      ]
     },
     "execution_count": 39,
     "metadata": {},
     "output_type": "execute_result"
    }
   ],
   "source": [
    "news[news['hits'] == news['hits'].max()]"
   ]
  },
  {
   "cell_type": "code",
   "execution_count": 40,
   "metadata": {},
   "outputs": [],
   "source": [
    "# write back enriched news data back to csv \n",
    "news.to_csv(f'{OUTPUT_STOCK_PATH}/{stock}.csv', index = False)"
   ]
  }
 ],
 "metadata": {
  "kernelspec": {
   "display_name": "Python 3",
   "language": "python",
   "name": "python3"
  },
  "language_info": {
   "codemirror_mode": {
    "name": "ipython",
    "version": 3
   },
   "file_extension": ".py",
   "mimetype": "text/x-python",
   "name": "python",
   "nbconvert_exporter": "python",
   "pygments_lexer": "ipython3",
   "version": "3.12.5"
  }
 },
 "nbformat": 4,
 "nbformat_minor": 2
}
