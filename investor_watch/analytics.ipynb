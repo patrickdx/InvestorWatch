{
 "cells": [
  {
   "cell_type": "code",
   "execution_count": null,
   "id": "0dee4939",
   "metadata": {},
   "outputs": [],
   "source": [
    "import streamlit as st\n",
    "from pymongo import MongoClient\n",
    "import pandas as pd\n",
    "from datetime import datetime, timedelta\n",
    "import plotly.express as px\n",
    "from collections import Counter\n",
    "\n",
    "# MongoDB setup\n",
    "client = MongoClient(\"mongodb://localhost:27017/\")\n",
    "db = client[\"your_database\"]\n",
    "collection = db[\"your_collection\"]\n",
    "\n",
    "st.title(\"📈 Stock News Dashboard\")\n"
   ]
  },
  {
   "cell_type": "code",
   "execution_count": null,
   "id": "c113c29c",
   "metadata": {},
   "outputs": [],
   "source": []
  }
 ],
 "metadata": {
  "language_info": {
   "name": "python"
  }
 },
 "nbformat": 4,
 "nbformat_minor": 5
}
