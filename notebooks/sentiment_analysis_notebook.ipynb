{
 "cells": [
  {
   "cell_type": "markdown",
   "id": "cdc414c1",
   "metadata": {},
   "source": [
    "# Twitter-RoBERTa Sentiment Analysis Notebook\n",
    "This notebook demonstrates how to use the `cardiffnlp/twitter-roberta-base-sentiment` model to classify the sentiment of example text."
   ]
  },
  {
   "cell_type": "code",
   "execution_count": 1,
   "id": "798d4dac",
   "metadata": {},
   "outputs": [
    {
     "name": "stdout",
     "output_type": "stream",
     "text": [
      "Defaulting to user installation because normal site-packages is not writeable\n",
      "Requirement already satisfied: transformers in c:\\users\\patrick4\\appdata\\roaming\\python\\python313\\site-packages (4.55.0)\n",
      "Requirement already satisfied: torch in c:\\users\\patrick4\\appdata\\roaming\\python\\python313\\site-packages (2.8.0+cu126)\n",
      "Requirement already satisfied: filelock in c:\\users\\patrick4\\appdata\\roaming\\python\\python313\\site-packages (from transformers) (3.18.0)\n",
      "Requirement already satisfied: huggingface-hub<1.0,>=0.34.0 in c:\\users\\patrick4\\appdata\\roaming\\python\\python313\\site-packages (from transformers) (0.34.3)\n",
      "Requirement already satisfied: numpy>=1.17 in c:\\users\\patrick4\\appdata\\roaming\\python\\python313\\site-packages (from transformers) (2.2.5)\n",
      "Requirement already satisfied: packaging>=20.0 in c:\\users\\patrick4\\appdata\\roaming\\python\\python313\\site-packages (from transformers) (24.2)\n",
      "Requirement already satisfied: pyyaml>=5.1 in c:\\users\\patrick4\\appdata\\roaming\\python\\python313\\site-packages (from transformers) (6.0.2)\n",
      "Requirement already satisfied: regex!=2019.12.17 in c:\\users\\patrick4\\appdata\\roaming\\python\\python313\\site-packages (from transformers) (2024.11.6)\n",
      "Requirement already satisfied: requests in c:\\users\\patrick4\\appdata\\roaming\\python\\python313\\site-packages (from transformers) (2.32.3)\n",
      "Requirement already satisfied: tokenizers<0.22,>=0.21 in c:\\users\\patrick4\\appdata\\roaming\\python\\python313\\site-packages (from transformers) (0.21.4)\n",
      "Requirement already satisfied: safetensors>=0.4.3 in c:\\users\\patrick4\\appdata\\roaming\\python\\python313\\site-packages (from transformers) (0.6.1)\n",
      "Requirement already satisfied: tqdm>=4.27 in c:\\users\\patrick4\\appdata\\roaming\\python\\python313\\site-packages (from transformers) (4.67.1)\n",
      "Requirement already satisfied: typing-extensions>=4.10.0 in c:\\users\\patrick4\\appdata\\roaming\\python\\python313\\site-packages (from torch) (4.13.2)\n",
      "Requirement already satisfied: sympy>=1.13.3 in c:\\users\\patrick4\\appdata\\roaming\\python\\python313\\site-packages (from torch) (1.13.3)\n",
      "Requirement already satisfied: networkx in c:\\users\\patrick4\\appdata\\roaming\\python\\python313\\site-packages (from torch) (3.3)\n",
      "Requirement already satisfied: jinja2 in c:\\users\\patrick4\\appdata\\roaming\\python\\python313\\site-packages (from torch) (3.1.6)\n",
      "Requirement already satisfied: fsspec in c:\\users\\patrick4\\appdata\\roaming\\python\\python313\\site-packages (from torch) (2025.7.0)\n",
      "Requirement already satisfied: setuptools in c:\\users\\patrick4\\appdata\\roaming\\python\\python313\\site-packages (from torch) (80.1.0)\n",
      "Requirement already satisfied: mpmath<1.4,>=1.1.0 in c:\\users\\patrick4\\appdata\\roaming\\python\\python313\\site-packages (from sympy>=1.13.3->torch) (1.3.0)\n",
      "Requirement already satisfied: colorama in c:\\users\\patrick4\\appdata\\roaming\\python\\python313\\site-packages (from tqdm>=4.27->transformers) (0.4.6)\n",
      "Requirement already satisfied: MarkupSafe>=2.0 in c:\\users\\patrick4\\appdata\\roaming\\python\\python313\\site-packages (from jinja2->torch) (3.0.2)\n",
      "Requirement already satisfied: charset-normalizer<4,>=2 in c:\\users\\patrick4\\appdata\\roaming\\python\\python313\\site-packages (from requests->transformers) (3.4.2)\n",
      "Requirement already satisfied: idna<4,>=2.5 in c:\\users\\patrick4\\appdata\\roaming\\python\\python313\\site-packages (from requests->transformers) (3.10)\n",
      "Requirement already satisfied: urllib3<3,>=1.21.1 in c:\\users\\patrick4\\appdata\\roaming\\python\\python313\\site-packages (from requests->transformers) (2.4.0)\n",
      "Requirement already satisfied: certifi>=2017.4.17 in c:\\users\\patrick4\\appdata\\roaming\\python\\python313\\site-packages (from requests->transformers) (2025.4.26)\n"
     ]
    },
    {
     "name": "stderr",
     "output_type": "stream",
     "text": [
      "\n",
      "[notice] A new release of pip is available: 25.0.1 -> 25.2\n",
      "[notice] To update, run: python.exe -m pip install --upgrade pip\n"
     ]
    }
   ],
   "source": [
    "# Install required libraries\n",
    "!pip install transformers torch"
   ]
  },
  {
   "cell_type": "code",
   "execution_count": 2,
   "id": "85603a58",
   "metadata": {},
   "outputs": [
    {
     "name": "stderr",
     "output_type": "stream",
     "text": [
      "Xet Storage is enabled for this repo, but the 'hf_xet' package is not installed. Falling back to regular HTTP download. For better performance, install the package with: `pip install huggingface_hub[hf_xet]` or `pip install hf_xet`\n"
     ]
    },
    {
     "data": {
      "application/vnd.jupyter.widget-view+json": {
       "model_id": "67acd317e9624ca7beef79223f05d4ef",
       "version_major": 2,
       "version_minor": 0
      },
      "text/plain": [
       "pytorch_model.bin:   0%|          | 0.00/499M [00:00<?, ?B/s]"
      ]
     },
     "metadata": {},
     "output_type": "display_data"
    },
    {
     "name": "stderr",
     "output_type": "stream",
     "text": [
      "C:\\Users\\patrick4\\AppData\\Roaming\\Python\\Python313\\site-packages\\huggingface_hub\\file_download.py:143: UserWarning: `huggingface_hub` cache-system uses symlinks by default to efficiently store duplicated files but your machine does not support them in C:\\Users\\patrick4\\.cache\\huggingface\\hub\\models--cardiffnlp--twitter-roberta-base-sentiment. Caching files will still work but in a degraded version that might require more space on your disk. This warning can be disabled by setting the `HF_HUB_DISABLE_SYMLINKS_WARNING` environment variable. For more details, see https://huggingface.co/docs/huggingface_hub/how-to-cache#limitations.\n",
      "To support symlinks on Windows, you either need to activate Developer Mode or to run Python as an administrator. In order to activate developer mode, see this article: https://docs.microsoft.com/en-us/windows/apps/get-started/enable-your-device-for-development\n",
      "  warnings.warn(message)\n",
      "Xet Storage is enabled for this repo, but the 'hf_xet' package is not installed. Falling back to regular HTTP download. For better performance, install the package with: `pip install huggingface_hub[hf_xet]` or `pip install hf_xet`\n"
     ]
    },
    {
     "data": {
      "application/vnd.jupyter.widget-view+json": {
       "model_id": "181514029a2d490ab4530042a6d6d2d0",
       "version_major": 2,
       "version_minor": 0
      },
      "text/plain": [
       "model.safetensors:   0%|          | 0.00/499M [00:00<?, ?B/s]"
      ]
     },
     "metadata": {},
     "output_type": "display_data"
    },
    {
     "name": "stderr",
     "output_type": "stream",
     "text": [
      "Device set to use cuda:0\n"
     ]
    }
   ],
   "source": [
    "from transformers import pipeline\n",
    "\n",
    "# Load the sentiment-analysis pipeline with the specified model\n",
    "classifier = pipeline(\"sentiment-analysis\", model=\"cardiffnlp/twitter-roberta-base-sentiment\")"
   ]
  },
  {
   "cell_type": "code",
   "execution_count": null,
   "id": "9e9deb82",
   "metadata": {},
   "outputs": [
    {
     "name": "stdout",
     "output_type": "stream",
     "text": [
      "Text: I love it!\n",
      "Sentiment: LABEL_2 (score: 0.9838)\n",
      "\n",
      "Text: I hate it!\n",
      "Sentiment: LABEL_0 (score: -0.9589)\n",
      "\n",
      "Text: That food was awfully good\n",
      "Sentiment: LABEL_2 (score: 0.9462)\n",
      "\n",
      "Text: I love killing time\n",
      "Sentiment: LABEL_2 (score: 0.8348)\n",
      "\n",
      "Text: I am neutral\n",
      "Sentiment: LABEL_1 (score: 0.0000)\n",
      "\n"
     ]
    }
   ],
   "source": [
    "# Example texts to classify\n",
    "texts = [\n",
    "    \"I love it!\",\n",
    "    \"I hate it!\",\n",
    "    \"That food was awfully good\",\n",
    "    \"I love killing time\",\n",
    "    \"I am neutral\"\n",
    "    \n",
    "]\n",
    "\n",
    "# Get sentiment predictions\n",
    "results = classifier(texts)\n",
    "\n",
    "# Label 0 = negative, 1 = neutral, 2 = positive, score = confidence\n",
    "for text, result in zip(texts, results):\n",
    "    print(results)\n",
    "    if result['label'] == 'LABEL_0': result['score'] = -result['score']\n",
    "    elif result['label'] == 'LABEL_1': result['score'] = 0\n",
    "    print(f\"Text: {text}\\nSentiment: {result['label']} (score: {result['score']:.4f})\\n\")\n"
   ]
  }
 ],
 "metadata": {
  "kernelspec": {
   "display_name": "Python 3",
   "language": "python",
   "name": "python3"
  },
  "language_info": {
   "codemirror_mode": {
    "name": "ipython",
    "version": 3
   },
   "file_extension": ".py",
   "mimetype": "text/x-python",
   "name": "python",
   "nbconvert_exporter": "python",
   "pygments_lexer": "ipython3",
   "version": "3.13.3"
  }
 },
 "nbformat": 4,
 "nbformat_minor": 5
}
