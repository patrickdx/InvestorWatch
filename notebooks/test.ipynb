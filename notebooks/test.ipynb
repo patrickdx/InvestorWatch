{
 "cells": [
  {
   "cell_type": "code",
   "execution_count": 1,
   "metadata": {},
   "outputs": [
    {
     "name": "stdout",
     "output_type": "stream",
     "text": [
      "Tables initialized successfully\n",
      "No stocks found in database\n",
      "Empty DataFrame\n",
      "Columns: []\n",
      "Index: []\n",
      "Tables initialized successfully\n",
      "c:\\users\\patrick4\\documents\\projects\\investor_watch\\investor_watch\\constants.py\n"
     ]
    }
   ],
   "source": [
    "import pandas as pd \n",
    "import psycopg2\n",
    "from investor_watch.constants import TICKER_PATH, STOCK_LIST_PATH\n",
    "from investor_watch import db\n",
    "from investor_watch import data\n",
    "\n",
    "conn = psycopg2.connect(                   # Connect to an existing database\n",
    "    dbname=\"postgres\", \n",
    "    user=\"postgres\", \n",
    "    password=\"password\", \n",
    "    host = 'localhost', \n",
    "    port = '5432'\n",
    ")\n",
    "cur = conn.cursor()                        # Open a cursor to perform database operations\n",
    "\n",
    "table_schema = '''\n",
    "CREATE TABLE IF NOT EXISTS stocks (\n",
    "    ticker VARCHAR(10) PRIMARY KEY,\n",
    "    company VARCHAR(255) NOT NULL,\n",
    "    sector VARCHAR(100),\n",
    "    industry VARCHAR(100),\n",
    "    country VARCHAR(100),\n",
    "    price NUMERIC(10, 2) CHECK (price >= 0),\n",
    "    market_cap NUMERIC(10, 2) CHECK (market_cap >= 0)\n",
    ");\n",
    "\n",
    "CREATE TABLE IF NOT EXISTS articles (\n",
    "    id SERIAL PRIMARY KEY,\n",
    "    ticker VARCHAR(10) REFERENCES stocks(ticker) ON DELETE CASCADE,\n",
    "    date TIMESTAMP NOT NULL,\n",
    "    title VARCHAR(255) NOT NULL,\n",
    "    link TEXT NOT NULL,\n",
    "    source VARCHAR(100) NOT NULL,\n",
    "    UNIQUE (ticker, date, title)                                    \n",
    ");\n",
    "'''\n",
    "\n",
    "cur.execute(table_schema)\n",
    "\n"
   ]
  },
  {
   "cell_type": "code",
   "execution_count": 3,
   "metadata": {},
   "outputs": [
    {
     "name": "stdout",
     "output_type": "stream",
     "text": [
      "No stocks found in database\n"
     ]
    },
    {
     "data": {
      "text/html": [
       "<div>\n",
       "<style scoped>\n",
       "    .dataframe tbody tr th:only-of-type {\n",
       "        vertical-align: middle;\n",
       "    }\n",
       "\n",
       "    .dataframe tbody tr th {\n",
       "        vertical-align: top;\n",
       "    }\n",
       "\n",
       "    .dataframe thead th {\n",
       "        text-align: right;\n",
       "    }\n",
       "</style>\n",
       "<table border=\"1\" class=\"dataframe\">\n",
       "  <thead>\n",
       "    <tr style=\"text-align: right;\">\n",
       "      <th></th>\n",
       "    </tr>\n",
       "  </thead>\n",
       "  <tbody>\n",
       "  </tbody>\n",
       "</table>\n",
       "</div>"
      ],
      "text/plain": [
       "Empty DataFrame\n",
       "Columns: []\n",
       "Index: []"
      ]
     },
     "execution_count": 3,
     "metadata": {},
     "output_type": "execute_result"
    }
   ],
   "source": [
    "#data.update_stock_list()\n",
    "db.read_stocks()"
   ]
  }
 ],
 "metadata": {
  "kernelspec": {
   "display_name": "Python 3",
   "language": "python",
   "name": "python3"
  },
  "language_info": {
   "codemirror_mode": {
    "name": "ipython",
    "version": 3
   },
   "file_extension": ".py",
   "mimetype": "text/x-python",
   "name": "python",
   "nbconvert_exporter": "python",
   "pygments_lexer": "ipython3",
   "version": "3.12.5"
  }
 },
 "nbformat": 4,
 "nbformat_minor": 2
}
